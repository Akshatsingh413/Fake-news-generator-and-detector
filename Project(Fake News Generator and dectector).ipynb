{
 "cells": [
  {
   "cell_type": "code",
   "execution_count": 1,
   "metadata": {
    "colab": {
     "base_uri": "https://localhost:8080/"
    },
    "executionInfo": {
     "elapsed": 12502,
     "status": "ok",
     "timestamp": 1752067247563,
     "user": {
      "displayName": "Akshat Singh",
      "userId": "14678788772385973211"
     },
     "user_tz": -330
    },
    "id": "VHCCF6ycohW9",
    "outputId": "92a99892-371a-4bd8-928f-60eef020186b"
   },
   "outputs": [
    {
     "name": "stdout",
     "output_type": "stream",
     "text": [
      "Requirement already satisfied: google-generativeai in /usr/local/lib/python3.11/dist-packages (0.8.5)\n",
      "Requirement already satisfied: google-ai-generativelanguage==0.6.15 in /usr/local/lib/python3.11/dist-packages (from google-generativeai) (0.6.15)\n",
      "Requirement already satisfied: google-api-core in /usr/local/lib/python3.11/dist-packages (from google-generativeai) (2.25.1)\n",
      "Requirement already satisfied: google-api-python-client in /usr/local/lib/python3.11/dist-packages (from google-generativeai) (2.174.0)\n",
      "Requirement already satisfied: google-auth>=2.15.0 in /usr/local/lib/python3.11/dist-packages (from google-generativeai) (2.38.0)\n",
      "Requirement already satisfied: protobuf in /usr/local/lib/python3.11/dist-packages (from google-generativeai) (5.29.5)\n",
      "Requirement already satisfied: pydantic in /usr/local/lib/python3.11/dist-packages (from google-generativeai) (2.11.7)\n",
      "Requirement already satisfied: tqdm in /usr/local/lib/python3.11/dist-packages (from google-generativeai) (4.67.1)\n",
      "Requirement already satisfied: typing-extensions in /usr/local/lib/python3.11/dist-packages (from google-generativeai) (4.14.0)\n",
      "Requirement already satisfied: proto-plus<2.0.0dev,>=1.22.3 in /usr/local/lib/python3.11/dist-packages (from google-ai-generativelanguage==0.6.15->google-generativeai) (1.26.1)\n",
      "Requirement already satisfied: googleapis-common-protos<2.0.0,>=1.56.2 in /usr/local/lib/python3.11/dist-packages (from google-api-core->google-generativeai) (1.70.0)\n",
      "Requirement already satisfied: requests<3.0.0,>=2.18.0 in /usr/local/lib/python3.11/dist-packages (from google-api-core->google-generativeai) (2.32.3)\n",
      "Requirement already satisfied: cachetools<6.0,>=2.0.0 in /usr/local/lib/python3.11/dist-packages (from google-auth>=2.15.0->google-generativeai) (5.5.2)\n",
      "Requirement already satisfied: pyasn1-modules>=0.2.1 in /usr/local/lib/python3.11/dist-packages (from google-auth>=2.15.0->google-generativeai) (0.4.2)\n",
      "Requirement already satisfied: rsa<5,>=3.1.4 in /usr/local/lib/python3.11/dist-packages (from google-auth>=2.15.0->google-generativeai) (4.9.1)\n",
      "Requirement already satisfied: httplib2<1.0.0,>=0.19.0 in /usr/local/lib/python3.11/dist-packages (from google-api-python-client->google-generativeai) (0.22.0)\n",
      "Requirement already satisfied: google-auth-httplib2<1.0.0,>=0.2.0 in /usr/local/lib/python3.11/dist-packages (from google-api-python-client->google-generativeai) (0.2.0)\n",
      "Requirement already satisfied: uritemplate<5,>=3.0.1 in /usr/local/lib/python3.11/dist-packages (from google-api-python-client->google-generativeai) (4.2.0)\n",
      "Requirement already satisfied: annotated-types>=0.6.0 in /usr/local/lib/python3.11/dist-packages (from pydantic->google-generativeai) (0.7.0)\n",
      "Requirement already satisfied: pydantic-core==2.33.2 in /usr/local/lib/python3.11/dist-packages (from pydantic->google-generativeai) (2.33.2)\n",
      "Requirement already satisfied: typing-inspection>=0.4.0 in /usr/local/lib/python3.11/dist-packages (from pydantic->google-generativeai) (0.4.1)\n",
      "Requirement already satisfied: grpcio<2.0.0,>=1.33.2 in /usr/local/lib/python3.11/dist-packages (from google-api-core[grpc]!=2.0.*,!=2.1.*,!=2.10.*,!=2.2.*,!=2.3.*,!=2.4.*,!=2.5.*,!=2.6.*,!=2.7.*,!=2.8.*,!=2.9.*,<3.0.0dev,>=1.34.1->google-ai-generativelanguage==0.6.15->google-generativeai) (1.73.1)\n",
      "Requirement already satisfied: grpcio-status<2.0.0,>=1.33.2 in /usr/local/lib/python3.11/dist-packages (from google-api-core[grpc]!=2.0.*,!=2.1.*,!=2.10.*,!=2.2.*,!=2.3.*,!=2.4.*,!=2.5.*,!=2.6.*,!=2.7.*,!=2.8.*,!=2.9.*,<3.0.0dev,>=1.34.1->google-ai-generativelanguage==0.6.15->google-generativeai) (1.71.2)\n",
      "Requirement already satisfied: pyparsing!=3.0.0,!=3.0.1,!=3.0.2,!=3.0.3,<4,>=2.4.2 in /usr/local/lib/python3.11/dist-packages (from httplib2<1.0.0,>=0.19.0->google-api-python-client->google-generativeai) (3.2.3)\n",
      "Requirement already satisfied: pyasn1<0.7.0,>=0.6.1 in /usr/local/lib/python3.11/dist-packages (from pyasn1-modules>=0.2.1->google-auth>=2.15.0->google-generativeai) (0.6.1)\n",
      "Requirement already satisfied: charset-normalizer<4,>=2 in /usr/local/lib/python3.11/dist-packages (from requests<3.0.0,>=2.18.0->google-api-core->google-generativeai) (3.4.2)\n",
      "Requirement already satisfied: idna<4,>=2.5 in /usr/local/lib/python3.11/dist-packages (from requests<3.0.0,>=2.18.0->google-api-core->google-generativeai) (3.10)\n",
      "Requirement already satisfied: urllib3<3,>=1.21.1 in /usr/local/lib/python3.11/dist-packages (from requests<3.0.0,>=2.18.0->google-api-core->google-generativeai) (2.4.0)\n",
      "Requirement already satisfied: certifi>=2017.4.17 in /usr/local/lib/python3.11/dist-packages (from requests<3.0.0,>=2.18.0->google-api-core->google-generativeai) (2025.6.15)\n"
     ]
    }
   ],
   "source": [
    "!pip install google-generativeai"
   ]
  },
  {
   "cell_type": "markdown",
   "metadata": {
    "id": "3Ae7U2LLswRz"
   },
   "source": [
    "# ***Generator***"
   ]
  },
  {
   "cell_type": "code",
   "execution_count": 16,
   "metadata": {
    "executionInfo": {
     "elapsed": 8,
     "status": "ok",
     "timestamp": 1752068328127,
     "user": {
      "displayName": "Akshat Singh",
      "userId": "14678788772385973211"
     },
     "user_tz": -330
    },
    "id": "aX3CKqrQqGl3"
   },
   "outputs": [],
   "source": [
    "import google.generativeai as genai"
   ]
  },
  {
   "cell_type": "code",
   "execution_count": null,
   "metadata": {
    "executionInfo": {
     "elapsed": 4,
     "status": "ok",
     "timestamp": 1752068329754,
     "user": {
      "displayName": "Akshat Singh",
      "userId": "14678788772385973211"
     },
     "user_tz": -330
    },
    "id": "5YDj2xfwqR2j"
   },
   "outputs": [],
   "source": [
    "genai.configure(api_key=\"\")\n",
    "model = genai.GenerativeModel('models/gemini-1.5-flash')"
   ]
  },
  {
   "cell_type": "code",
   "execution_count": 18,
   "metadata": {
    "executionInfo": {
     "elapsed": 4,
     "status": "ok",
     "timestamp": 1752068331768,
     "user": {
      "displayName": "Akshat Singh",
      "userId": "14678788772385973211"
     },
     "user_tz": -330
    },
    "id": "AM34Ko_pq3lb"
   },
   "outputs": [],
   "source": [
    "def generate_fake_news(prompt):\n",
    "  full_prompt = f\"Write a fake news article based on this fictional prompt: {prompt}. The article should sound realistic but be entirely made up for testing purposes.\"\n",
    "  response = model.generate_content(prompt)\n",
    "  return response.text"
   ]
  },
  {
   "cell_type": "code",
   "execution_count": 19,
   "metadata": {
    "colab": {
     "base_uri": "https://localhost:8080/",
     "height": 505
    },
    "executionInfo": {
     "elapsed": 26222,
     "status": "ok",
     "timestamp": 1752068359482,
     "user": {
      "displayName": "Akshat Singh",
      "userId": "14678788772385973211"
     },
     "user_tz": -330
    },
    "id": "eLFNS-JPrsKZ",
    "outputId": "5b0a844b-56f5-4f2a-ac13-25fb3e4751ea"
   },
   "outputs": [
    {
     "name": "stdout",
     "output_type": "stream",
     "text": [
      "Enter the specific content of fake news: aliens landed on earth \n",
      "\n",
      " Generated Fake News Article:\n",
      "\n",
      "That's a pretty big statement!  The arrival of aliens on Earth would be the most significant event in human history.  What happens next depends entirely on the nature of the aliens and their intentions.  Here are some possibilities:\n",
      "\n",
      "**Positive Scenarios:**\n",
      "\n",
      "* **Peaceful Contact:** The aliens could be friendly, offering advanced technology, knowledge, and solutions to global problems like climate change and disease.  This could usher in a golden age of cooperation and progress.\n",
      "* **Observation Only:** Perhaps they're simply studying us from a distance, observing our civilization without interfering. This would be less dramatic but still profoundly significant.\n",
      "* **Technological Exchange:** They might share technology, but with limitations or caveats to prevent misuse.\n",
      "\n",
      "**Negative Scenarios:**\n",
      "\n",
      "* **Hostile Invasion:** The aliens could be conquerors, seeking to exploit Earth's resources or subjugate humanity. This would lead to widespread conflict and potentially the extinction of humanity.\n",
      "* **Accidental Contamination:** The aliens might carry diseases or other harmful agents that devastate the Earth's ecosystems or humanity itself.\n",
      "* **Unintentional Destruction:** Their technology or actions could inadvertently cause catastrophic damage to the planet.\n",
      "* **Cultural Clash:** Even with peaceful intentions, vast cultural differences could lead to misunderstandings and conflict.\n",
      "\n",
      "**Uncertainties:**\n",
      "\n",
      "* **Their motives:**  We have absolutely no idea what an alien civilization's goals might be.  Their motivations could be entirely incomprehensible to us.\n",
      "* **Their capabilities:**  Their technology could be far beyond our own, making resistance futile or cooperation essential.\n",
      "* **Their form:**  They might be biological, robotic, or something we can't even imagine.\n",
      "\n",
      "In short, the arrival of aliens on Earth is a scenario ripe with potential for both incredible progress and utter devastation.  The outcome hinges on factors we can only speculate about.\n",
      "\n"
     ]
    }
   ],
   "source": [
    "user_prompt = input(\"Enter the specific content of fake news: \")\n",
    "fake_news = generate_fake_news(user_prompt)\n",
    "print(\"\\n Generated Fake News Article:\\n\")\n",
    "print(fake_news)"
   ]
  },
  {
   "cell_type": "markdown",
   "metadata": {
    "id": "oCKGySmRyirG"
   },
   "source": [
    "# ***Detector***"
   ]
  },
  {
   "cell_type": "code",
   "execution_count": 24,
   "metadata": {
    "executionInfo": {
     "elapsed": 7,
     "status": "ok",
     "timestamp": 1752068885554,
     "user": {
      "displayName": "Akshat Singh",
      "userId": "14678788772385973211"
     },
     "user_tz": -330
    },
    "id": "I14QWOyOZ80A"
   },
   "outputs": [],
   "source": [
    "def detect_fake_news(user_input):\n",
    "  prompt = f\"\"\"\n",
    "    You are a professional fact-checking assistant. Analyze the following news and determine if it is likely to be real or fake.\n",
    "\n",
    "    News:\n",
    "    \\\"{user_input}\\\"\n",
    "\n",
    "    Respond in this format:\n",
    "    - Verdict: Real or Fake\n",
    "    - Confidence: Percentage (0–100%)\n",
    "    - Reason: A short explanation based on your reasoning and world knowledge(Maximum Character:300).\n",
    "    \"\"\"\n",
    "\n",
    "  response = model.generate_content(prompt)\n",
    "  return response.text"
   ]
  },
  {
   "cell_type": "code",
   "execution_count": 22,
   "metadata": {
    "colab": {
     "base_uri": "https://localhost:8080/",
     "height": 141
    },
    "executionInfo": {
     "elapsed": 44537,
     "status": "ok",
     "timestamp": 1752068747578,
     "user": {
      "displayName": "Akshat Singh",
      "userId": "14678788772385973211"
     },
     "user_tz": -330
    },
    "id": "_v0nRRYWbffU",
    "outputId": "d651c623-af74-4893-f366-99112e41e65f"
   },
   "outputs": [
    {
     "name": "stdout",
     "output_type": "stream",
     "text": [
      "Enter the news article: \n",
      "That's a pretty big statement!  The arrival of aliens on Earth would be the most significant event in human history.  What happens next depends entirely on the nature of the aliens and their intentions.  Here are some possibilities:  **Positive Scenarios:**  * **Peaceful Contact:** The aliens could be friendly, offering advanced technology, knowledge, and solutions to global problems like climate change and disease.  This could usher in a golden age of cooperation and progress. * **Observation Only:** Perhaps they're simply studying us from a distance, observing our civilization without interfering. This would be less dramatic but still profoundly significant. * **Technological Exchange:** They might share technology, but with limitations or caveats to prevent misuse.  **Negative Scenarios:**  * **Hostile Invasion:** The aliens could be conquerors, seeking to exploit Earth's resources or subjugate humanity. This would lead to widespread conflict and potentially the extinction of humanity. * **Accidental Contamination:** The aliens might carry diseases or other harmful agents that devastate the Earth's ecosystems or humanity itself. * **Unintentional Destruction:** Their technology or actions could inadvertently cause catastrophic damage to the planet. * **Cultural Clash:** Even with peaceful intentions, vast cultural differences could lead to misunderstandings and conflict.  **Uncertainties:**  * **Their motives:**  We have absolutely no idea what an alien civilization's goals might be.  Their motivations could be entirely incomprehensible to us. * **Their capabilities:**  Their technology could be far beyond our own, making resistance futile or cooperation essential. * **Their form:**  They might be biological, robotic, or something we can't even imagine.  In short, the arrival of aliens on Earth is a scenario ripe with potential for both incredible progress and utter devastation.  The outcome hinges on factors we can only speculate about.\n",
      "- Verdict: Fake\n",
      "- Confidence: 95%\n",
      "- Reason: The provided text doesn't report any specific event or cite any evidence of alien arrival.  Instead, it presents a hypothetical scenario exploring the various potential consequences of such an event.  While the possibilities discussed are plausible thought experiments, the absence of any concrete news, evidence, or source makes it highly improbable that this is a real news report.  Real news about alien arrival would involve verifiable data, scientific evidence, and official statements from credible sources, none of which are present here.  The text reads more like an opinion piece or a speculative article exploring a science fiction theme.\n",
      "\n"
     ]
    }
   ],
   "source": [
    "user = input(\"Enter the news article: \\n\")\n",
    "print(detect_fake_news(user))"
   ]
  },
  {
   "cell_type": "code",
   "execution_count": 25,
   "metadata": {
    "colab": {
     "base_uri": "https://localhost:8080/",
     "height": 141
    },
    "executionInfo": {
     "elapsed": 44606,
     "status": "ok",
     "timestamp": 1752068934084,
     "user": {
      "displayName": "Akshat Singh",
      "userId": "14678788772385973211"
     },
     "user_tz": -330
    },
    "id": "qTBgotdjbqr3",
    "outputId": "1d66aa14-94ff-4589-ca2c-b048927033a3"
   },
   "outputs": [
    {
     "name": "stdout",
     "output_type": "stream",
     "text": [
      "Enter the news article: \n",
      "virat kohli is a cricketer\n",
      "- Verdict: Real\n",
      "- Confidence: 100%\n",
      "- Reason: Virat Kohli is a widely known and highly successful international cricketer from India.  His career and achievements are extensively documented across reputable news sources, sports websites, and official cricketing bodies. The statement \"Virat Kohli is a cricketer\" is a verifiable fact, readily confirmed through numerous reliable sources.  There is no basis to suggest this is false information.\n",
      "\n"
     ]
    }
   ],
   "source": [
    "user = input(\"Enter the news article: \\n\")\n",
    "print(detect_fake_news(user))"
   ]
  },
  {
   "cell_type": "code",
   "execution_count": null,
   "metadata": {
    "id": "9bjfPvKBb_FD"
   },
   "outputs": [],
   "source": []
  }
 ],
 "metadata": {
  "colab": {
   "authorship_tag": "ABX9TyOrYHq18EikhSjrG6PoSHP7",
   "provenance": []
  },
  "kernelspec": {
   "display_name": "Python 3",
   "name": "python3"
  },
  "language_info": {
   "name": "python"
  }
 },
 "nbformat": 4,
 "nbformat_minor": 0
}
